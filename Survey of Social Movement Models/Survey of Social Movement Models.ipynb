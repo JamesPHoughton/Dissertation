{
 "cells": [
  {
   "cell_type": "markdown",
   "metadata": {},
   "source": [
    "#Survey of Social Movement Models\n",
    "\n",
    "## System Dynamics Conferences\n",
    "\n",
    "- http://www.systemdynamics.org/conferences/2011/proceed/papers/P1436.pdf\n",
    "- http://www.systemdynamics.org/conferences/2012/proceed/papers/P1081.pdf\n",
    "- http://www.systemdynamics.org/conferences/2007/proceed/papers/MADNI289.pdf\n",
    "- http://www.systemdynamics.org/conferences/2011/proceed/papers/P1329.pdf\n",
    "- http://www.systemdynamics.org/conferences/1983/proceed/plenary/richa001.pdf\n",
    "- \n",
    "    "
   ]
  },
  {
   "cell_type": "code",
   "execution_count": null,
   "metadata": {
    "collapsed": true
   },
   "outputs": [],
   "source": [
    "##Types of Models\n",
    "- network\n",
    "- System Dynamics"
   ]
  }
 ],
 "metadata": {
  "kernelspec": {
   "display_name": "Python 2",
   "language": "python",
   "name": "python2"
  },
  "language_info": {
   "codemirror_mode": {
    "name": "ipython",
    "version": 2
   },
   "file_extension": ".py",
   "mimetype": "text/x-python",
   "name": "python",
   "nbconvert_exporter": "python",
   "pygments_lexer": "ipython2",
   "version": "2.7.6"
  }
 },
 "nbformat": 4,
 "nbformat_minor": 0
}
