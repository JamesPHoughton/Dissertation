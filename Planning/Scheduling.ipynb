{
 "cells": [
  {
   "cell_type": "markdown",
   "metadata": {},
   "source": [
    "#Course Schedule Optimization\n",
    "Scheduling Classes, papers, etc, is a big constrained allocation probem. There should be an optimal solution - what is it?\n",
    "\n",
    "Each requirement has a number of different classes which can satisfy it, and which can be taken in different semesters. The likelihood that a class will be taught in a given semester is expressed as a probability (best guess)\n",
    "Classes have prerequisites\n",
    "papers may be best written with certain prerequisites, and certain co-requisites\n",
    "\n",
    "\n",
    "In my PhD, I have 10 semesters. \n",
    "\n",
    "\n",
    "I have a bunch of objectives, some are classes, some are papers. Each objective has a dependency matrix - the likelihood that it should come after another factor.  There is also a cooccurence matrix - the likelihood that it should occur the same time as another objective. \n",
    "\n",
    "There is also an effort penalty that (possibly) goes as the square of the effort in any semester, to try to balance the load.\n",
    "\n",
    "\n",
    "Out of 10 semesters, anything that doesn't make the cut gets pushed to semester 11"
   ]
  },
  {
   "cell_type": "markdown",
   "metadata": {},
   "source": [
    "    \n",
    "Stats1a\n",
    "Stats1b\n",
    "\n",
    "Stats2\n",
    "\n",
    "    Stats2>(Stats1a or Stats1b) #a class might have interchangeable prerequisites\n",
    "\n",
    "may need two out of possible three:\n",
    "    \n",
    "    (A and B) or (B and C) or (A and C)\n",
    "\n",
    "May want to schedule two things at the same time:\n",
    "    \n",
    "    Paper1 == Course3\n",
    "\n",
    "Or not at the same time:\n",
    "    \n",
    "    Hardclass1 != Hardclass2\n",
    "\n",
    "Have a weighting for prerequuisites (fuzzy prereq. - ie, you really *should* do this, but if you don't its ok.)\n",
    "    \n",
    "    .5*Option_1 and .6*Option_2\n",
    "\n",
    "\n",
    "Opportunity for a task to take more than one slot?\n",
    "Way to make exclusive with a whole class of other tasks? ie, only write one paper per semester?"
   ]
  },
  {
   "cell_type": "code",
   "execution_count": 22,
   "metadata": {
    "collapsed": false
   },
   "outputs": [],
   "source": [
    "class scheduler():\n",
    "    def add_task(self, name, \n",
    "                 load,\n",
    "                 preq=[], \n",
    "                 coq=[],\n",
    "                 exclusive=[], \n",
    "                 offered=[0,0,0,0,0,0,0,0,0,0], #slots (Take a probability)\n",
    "                 description=''\n",
    "                 tags=[]\n",
    "                ):\n",
    "        \n",
    "        \n",
    "        \n",
    "class task():\n",
    "    def __init__(self, load,\n",
    "                 preq=[], \n",
    "                 coq=[],\n",
    "                 exclusive=[], \n",
    "                 offered=[0,1,0,1,0,1,0,1,0,1], #slots (Take a probability)\n",
    "                 description=''\n",
    "                ):\n",
    "        self.description = description\n",
    "        self.success=0\n",
    "\n",
    "    \n",
    "\n",
    "\n",
    "\n"
   ]
  },
  {
   "cell_type": "code",
   "execution_count": null,
   "metadata": {
    "collapsed": true
   },
   "outputs": [],
   "source": [
    "s = scheduler()\n",
    "s.SM_models_survey = task(load=100,\n",
    "                              offered=[1,1,1,1,1,1,1,1,1,1],\n",
    "                              description=\"a paper describing the existing literature of models of social movements\")\n"
   ]
  },
  {
   "cell_type": "code",
   "execution_count": 15,
   "metadata": {
    "collapsed": false
   },
   "outputs": [],
   "source": [
    "paper_survey_of_models = \n",
    "\n"
   ]
  },
  {
   "cell_type": "code",
   "execution_count": 20,
   "metadata": {
    "collapsed": false
   },
   "outputs": [],
   "source": [
    "a = 1 "
   ]
  },
  {
   "cell_type": "code",
   "execution_count": 18,
   "metadata": {
    "collapsed": false
   },
   "outputs": [
    {
     "data": {
      "text/plain": [
       "1"
      ]
     },
     "execution_count": 18,
     "metadata": {},
     "output_type": "execute_result"
    }
   ],
   "source": [
    "a.__mul__(taskb)"
   ]
  },
  {
   "cell_type": "code",
   "execution_count": 19,
   "metadata": {
    "collapsed": false
   },
   "outputs": [
    {
     "data": {
      "text/plain": [
       "0.4"
      ]
     },
     "execution_count": 19,
     "metadata": {},
     "output_type": "execute_result"
    }
   ],
   "source": [
    ".4 or 1"
   ]
  },
  {
   "cell_type": "code",
   "execution_count": null,
   "metadata": {
    "collapsed": true
   },
   "outputs": [],
   "source": []
  }
 ],
 "metadata": {
  "kernelspec": {
   "display_name": "Python 2",
   "language": "python",
   "name": "python2"
  },
  "language_info": {
   "codemirror_mode": {
    "name": "ipython",
    "version": 2
   },
   "file_extension": ".py",
   "mimetype": "text/x-python",
   "name": "python",
   "nbconvert_exporter": "python",
   "pygments_lexer": "ipython2",
   "version": "2.7.6"
  }
 },
 "nbformat": 4,
 "nbformat_minor": 0
}
