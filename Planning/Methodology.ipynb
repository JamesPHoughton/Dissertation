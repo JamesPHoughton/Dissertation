{
 "cells": [
  {
   "cell_type": "markdown",
   "metadata": {},
   "source": [
    "## Tools\n",
    "\n",
    "Want to use tools that are freely available (preferably open source) and standard to the analysis/known to the community. Ideally, they would also work well with python.\n",
    "\n",
    "####System Dynamics\n",
    "- Vensim for model construction\n",
    "- PySD for model analysis\n",
    "\n",
    "####Agent Based Modeling\n",
    "- TBD. Evaluate: MASON, NetLogo, Repast,\tSwarm\n",
    "\n",
    "\n",
    "####Data Analysis\n",
    "- Python Data Analytics Stack\n",
    "\n",
    "\n",
    "Other things to look at:\n",
    "\n",
    "- Petri Nets\n"
   ]
  }
 ],
 "metadata": {
  "kernelspec": {
   "display_name": "Python 2",
   "language": "python",
   "name": "python2"
  },
  "language_info": {
   "codemirror_mode": {
    "name": "ipython",
    "version": 2
   },
   "file_extension": ".py",
   "mimetype": "text/x-python",
   "name": "python",
   "nbconvert_exporter": "python",
   "pygments_lexer": "ipython2",
   "version": "2.7.6"
  }
 },
 "nbformat": 4,
 "nbformat_minor": 0
}
