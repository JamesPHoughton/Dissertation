{
 "cells": [
  {
   "cell_type": "markdown",
   "metadata": {},
   "source": [
    "Models continue to play a crucial role in our understanding both of the science of climate change, but in the economic and policy implications and requirements that it imposes. We have models which tell us that a certain commitment to fossil energy reduction will have a certain impact on the climate, and models which tell us which policies can lead to those reductions.\n",
    "\n",
    "To date, however, we have not modeled in detail the steps necessary to achieve the necessary policies. \n",
    "\n",
    "These policies are hamstrung by political intransigence which will require a social movement to force into action. \n",
    "\n",
    "This work attempts to complete the work of modeling by bringing the scope of the models all the way from climate simulations, through policy, to the levers in the hands of social movement leaders, leaders of business, \n",
    "<!---\n",
    "this probably suggests what some subsequent chapters should be about? We should nail down who the ultimate customers of the modeling effort are...\n",
    "-->\n",
    "concerned citizens..."
   ]
  }
 ],
 "metadata": {
  "kernelspec": {
   "display_name": "Python 2",
   "language": "python",
   "name": "python2"
  },
  "language_info": {
   "codemirror_mode": {
    "name": "ipython",
    "version": 2
   },
   "file_extension": ".py",
   "mimetype": "text/x-python",
   "name": "python",
   "nbconvert_exporter": "python",
   "pygments_lexer": "ipython2",
   "version": "2.7.6"
  }
 },
 "nbformat": 4,
 "nbformat_minor": 0
}
