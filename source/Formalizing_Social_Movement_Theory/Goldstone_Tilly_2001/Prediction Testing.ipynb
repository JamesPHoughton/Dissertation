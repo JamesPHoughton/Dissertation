{
 "cells": [
  {
   "cell_type": "code",
   "execution_count": 1,
   "metadata": {
    "collapsed": false
   },
   "outputs": [
    {
     "name": "stdout",
     "output_type": "stream",
     "text": [
      "Populating the interactive namespace from numpy and matplotlib\n"
     ]
    },
    {
     "data": {
      "text/plain": [
       "'0.3.2'"
      ]
     },
     "execution_count": 1,
     "metadata": {},
     "output_type": "execute_result"
    }
   ],
   "source": [
    "%pylab inline\n",
    "import pysd\n",
    "import pandas as pd\n",
    "import pyDOE\n",
    "pysd.__version__"
   ]
  },
  {
   "cell_type": "markdown",
   "metadata": {},
   "source": [
    "# Todo\n",
    "\n",
    "- What are the conditions under which the test passes."
   ]
  },
  {
   "cell_type": "markdown",
   "metadata": {},
   "source": [
    "## Load the model"
   ]
  },
  {
   "cell_type": "code",
   "execution_count": 4,
   "metadata": {
    "collapsed": false
   },
   "outputs": [
    {
     "data": {
      "text/plain": [
       "['__class__',\n",
       " '__delattr__',\n",
       " '__dict__',\n",
       " '__doc__',\n",
       " '__format__',\n",
       " '__getattribute__',\n",
       " '__hash__',\n",
       " '__init__',\n",
       " '__module__',\n",
       " '__new__',\n",
       " '__reduce__',\n",
       " '__reduce_ex__',\n",
       " '__repr__',\n",
       " '__setattr__',\n",
       " '__sizeof__',\n",
       " '__str__',\n",
       " '__subclasshook__',\n",
       " '__weakref__',\n",
       " '_dfuncs',\n",
       " '_stocknames',\n",
       " 'adjusting_concession_expectation',\n",
       " 'adjusting_repression_expectation',\n",
       " 'concession_fractional_adjustment',\n",
       " 'concession_rate',\n",
       " 'concession_unit_cost',\n",
       " 'concessions',\n",
       " 'concessions_init',\n",
       " 'cost_of_protest_c',\n",
       " 'current_threat_tc',\n",
       " 'd_dt',\n",
       " 'dconcessions_dt',\n",
       " 'dexpectation_of_concessions_needed_dt',\n",
       " 'dexpectation_of_repression_needed_dt',\n",
       " 'doc',\n",
       " 'drepressive_threat_tr_dt',\n",
       " 'expectation_of_concessions_needed',\n",
       " 'expectation_of_concessions_needed_init',\n",
       " 'expectation_of_repression_needed',\n",
       " 'expectation_of_repression_needed_init',\n",
       " 'expected_net_gain_from_protest_g',\n",
       " 'final_time',\n",
       " 'functions',\n",
       " 'gains_that_would_result_from_success_v',\n",
       " 'initial_level_of_current_threat',\n",
       " 'initial_time',\n",
       " 'making_concessions',\n",
       " 'making_threats',\n",
       " 'new_advantages_a',\n",
       " 'popular_support_k2',\n",
       " 'preference_for_repression',\n",
       " 'probability_of_success_o',\n",
       " 'protest',\n",
       " 'regime_capability',\n",
       " 'regime_survival',\n",
       " 'repression_fractional_adjustment',\n",
       " 'repression_unit_cost',\n",
       " 'repressive_threat_tr',\n",
       " 'repressive_threat_tr_init',\n",
       " 'reset_state',\n",
       " 'saveper',\n",
       " 'state',\n",
       " 'state_vector',\n",
       " 'state_weakness_k1',\n",
       " 'strength_of_nonstate_allies_k3',\n",
       " 't',\n",
       " 'threat_rate',\n",
       " 'time',\n",
       " 'time_step',\n",
       " 'total_cost']"
      ]
     },
     "execution_count": 4,
     "metadata": {},
     "output_type": "execute_result"
    }
   ],
   "source": [
    "model = pysd.read_vensim('Goldstone_Tilly_2001_d_08_pysd_simplification.mdl')\n",
    "dir(model.components)"
   ]
  },
  {
   "cell_type": "code",
   "execution_count": 7,
   "metadata": {
    "collapsed": false
   },
   "outputs": [
    {
     "data": {
      "image/png": "[encoded data removed]",
      "text/plain": [
       "<matplotlib.figure.Figure at 0x10f9c3210>"
      ]
     },
     "metadata": {},
     "output_type": "display_data"
    }
   ],
   "source": [
    "result = model.run(params={'new_advantages_a':6},\n",
    "          return_columns=['concessions', 'repressive_threat_tr', 'protest'])\n",
    "result.plot();\n",
    "plt.legend(loc='upper left')\n",
    "assert result['protest'].iloc[-1] == 0"
   ]
  },
  {
   "cell_type": "code",
   "execution_count": 8,
   "metadata": {
    "collapsed": false
   },
   "outputs": [
    {
     "data": {
      "text/plain": [
       "[<matplotlib.lines.Line2D at 0x1104e4210>]"
      ]
     },
     "execution_count": 8,
     "metadata": {},
     "output_type": "execute_result"
    },
    {
     "data": {
      "image/png": "[encoded data removed]",
      "text/plain": [
       "<matplotlib.figure.Figure at 0x10fae7390>"
      ]
     },
     "metadata": {},
     "output_type": "display_data"
    }
   ],
   "source": [
    "plt.plot(result['repressive_threat_tr'], result['concessions'])\n",
    "plt.xlabel()"
   ]
  },
  {
   "cell_type": "markdown",
   "metadata": {},
   "source": [
    "## Define a parameter space \n",
    "We'll use a latin hypercube sampling method to sweep over a reasonable range of parameters"
   ]
  },
  {
   "cell_type": "code",
   "execution_count": 15,
   "metadata": {
    "collapsed": false
   },
   "outputs": [
    {
     "data": {
      "image/png": "[encoded data removed]",
      "text/plain": [
       "<matplotlib.figure.Figure at 0x113758750>"
      ]
     },
     "metadata": {},
     "output_type": "display_data"
    }
   ],
   "source": [
    "p_ranges = {\n",
    "    'concession_fractional_adjustment':(1,2),\n",
    "    'repression_fractional_adjustment':(1,2),\n",
    "    'initial_level_of_current_threat':(0,5),\n",
    "    'new_advantages_a':(0,5),\n",
    "    'threat_rate':(0,2),\n",
    "    'concession_rate':(0,2),\n",
    "    'probability_of_success_o':(0,1),\n",
    "    'repression_unit_cost':(0,5),\n",
    "    'concession_unit_cost':(0,5)\n",
    "}\n",
    "norm_samples = pyDOE.lhs(n=len(p_ranges), samples=1024)\n",
    "\n",
    "parameters = pd.DataFrame([{key:n*(p[1]-p[0])+p[0] for n,(key,p) in zip(row, p_ranges.iteritems())} \n",
    "                           for row in norm_samples])\n",
    "parameters.hist(figsize=(12,4), layout=(2,5));"
   ]
  },
  {
   "cell_type": "code",
   "execution_count": 66,
   "metadata": {
    "collapsed": false
   },
   "outputs": [
    {
     "data": {
      "text/plain": [
       "<a list of 19 text.Text objects>"
      ]
     },
     "execution_count": 66,
     "metadata": {},
     "output_type": "execute_result"
    },
    {
     "data": {
      "image/png": "[encoded data removed]",
      "text/plain": [
       "<matplotlib.figure.Figure at 0x1196d75d0>"
      ]
     },
     "metadata": {},
     "output_type": "display_data"
    }
   ],
   "source": [
    "def test(row):\n",
    "    try:\n",
    "        output = model.run(row.to_dict().update({'repression_unit_cost':1,'concession_unit_cost':1}), \n",
    "                           return_columns=['concessions', 'repressive_threat_tr', 'protest'])\n",
    "        plt.plot(output['repressive_threat_tr'],output['concessions'],'b', alpha=.55)\n",
    "    except:\n",
    "        pass\n",
    "\n",
    "result = parameters.iloc[:100].apply(test, axis=1)\n",
    "plt.xlim(0,10)\n",
    "plt.ylim(0,10)\n",
    "\n",
    "# constant cost lines\n",
    "xs, ys = np.meshgrid(np.linspace(0,10,100), np.linspace(0,10,100))\n",
    "zs = xs + ys\n",
    "CS = plt.contour(xs,  ys, zs, levels=np.arange(0,20,1), cmap='autumn_r')   \n",
    "plt.clabel(CS, inline=1, fontsize=10, fmt='%i')"
   ]
  },
  {
   "cell_type": "code",
   "execution_count": 178,
   "metadata": {
    "collapsed": true
   },
   "outputs": [],
   "source": [
    "def successmap(result):\n",
    "    shape = [sqrt(len(result))]*2\n",
    "    plt.matshow(result.reshape(shape), cmap='bone')\n",
    "    plt.yticks(np.arange(-.5,shape[0]-.5,1), ())\n",
    "    plt.xticks(np.arange(-.5,shape[1]-.5,1), ())\n",
    "    plt.grid(color='grey',linestyle='-')\n",
    "    ax = plt.gca()\n",
    "    ax.tick_params(width=0)\n",
    "    plt.xlim(-.5,shape[0]-.5)\n",
    "    plt.ylim(-.5,shape[0]-.5)\n",
    "    plt.plot([-5],[5], 'sk', label='Failure')\n",
    "    plt.plot([-5],[5], 'sw', label='Success')\n",
    "    plt.legend(loc='upper center', bbox_to_anchor=(.5,0), ncol=2, frameon=False, markerscale=2, numpoints=1);"
   ]
  },
  {
   "cell_type": "markdown",
   "metadata": {},
   "source": [
    "### Test 1: Regime Success\n",
    "\n",
    "#### Claim:\n",
    "> \"The state, ... [may] manipulate \n",
    "the current threats to the protest group, and the level of repression that \n",
    "follows on protest action. Here there is room for effective action by the state...\"\n",
    ">\n",
    "> pg 185, para 5\n",
    "\n",
    "#### Interpretation:\n",
    "At least in some cases, the state can quell protests through the use of concessions and repression.\n",
    "\n",
    "#### Test:\n",
    "Sweep over all range of possible parameters for the model ensuring that in at least one case the simulation begins with protest and ends without it."
   ]
  },
  {
   "cell_type": "code",
   "execution_count": 183,
   "metadata": {
    "collapsed": false
   },
   "outputs": [
    {
     "name": "stdout",
     "output_type": "stream",
     "text": [
      "True\n",
      "755\n"
     ]
    },
    {
     "data": {
      "image/png": "[encoded data removed]",
      "text/plain": [
       "<matplotlib.figure.Figure at 0x113907090>"
      ]
     },
     "metadata": {},
     "output_type": "display_data"
    }
   ],
   "source": [
    "def test(row):\n",
    "    protest = model.run(row.to_dict(), return_columns=['protest'])['protest']\n",
    "    return protest.iloc[0] == 1 and protest.iloc[-1] == 0\n",
    "\n",
    "result = parameters.apply(test, axis=1)\n",
    "successmap(result)\n",
    "print any(result)\n",
    "print sum(result)"
   ]
  },
  {
   "cell_type": "markdown",
   "metadata": {},
   "source": [
    "### Test 2: Regime Failure \n",
    "\n",
    ">\"If the regime is bound by the flatter line through point C, as its frontier for action, it has doomed itself; it is now neither capable of enough repression, nor willing to provide enough concessions, to halt the movement.\n",
    "That is, there is no point on the line through point C that is above the new suppression line A'B'.\"\n",
    ">\n",
    "> pg 189\n",
    "\n",
    "#### Interpretation:\n",
    "There is a total cost that the regime is able to pay, above which the regime will fail.\n",
    "\n",
    "#### Test:\n",
    "Sweep over the parameter space. In some regions, the cost will exceed the total cost bearable by the regime, regardless of the parameters/actions taken by the regime, and the value for regime survival will drop to zero."
   ]
  },
  {
   "cell_type": "code",
   "execution_count": 184,
   "metadata": {
    "collapsed": false
   },
   "outputs": [
    {
     "name": "stdout",
     "output_type": "stream",
     "text": [
      "True\n",
      "14\n"
     ]
    },
    {
     "data": {
      "image/png": "[encoded data removed]",
      "text/plain": [
       "<matplotlib.figure.Figure at 0x113a24590>"
      ]
     },
     "metadata": {},
     "output_type": "display_data"
    }
   ],
   "source": [
    "def test(row):\n",
    "    survival = model.run(row.to_dict(), return_columns=['regime_survival'])['regime_survival']\n",
    "    return survival.iloc[-1] == 0\n",
    "\n",
    "result = parameters.apply(test, axis=1)\n",
    "successmap(result)\n",
    "print any(result)\n",
    "print sum(result)"
   ]
  },
  {
   "cell_type": "markdown",
   "metadata": {
    "collapsed": true
   },
   "source": [
    "### Test\n",
    "\n",
    "#### Claim:\n",
    "> The state may initially set the level of concessions or repression too low, and \n",
    "thus find itself under the A\\B line. Protest activity will then start to mount, \n",
    "and the question for the state is what to do next - increase repression, \n",
    "or increase concessions, or both.\n",
    ">\n",
    "> [The State] may swing back and forth between concessions and repression, \n",
    "trying to find a combination that quells protest, without\n",
    "success. \n",
    ">\n",
    "> Pg. 188\n",
    "\n",
    "#### Interpretation\n",
    "In some cases, the regime may begin by primarily working to increase either repression or concessions, such that the instantaneous rate of **Making concessions** is greater (or less) than that of **Making threats** and then at some point in the simulation, the relative weighting of these two parameters will switch.\n",
    "\n",
    "#### Test:\n"
   ]
  },
  {
   "cell_type": "code",
   "execution_count": 182,
   "metadata": {
    "collapsed": false
   },
   "outputs": [
    {
     "name": "stdout",
     "output_type": "stream",
     "text": [
      "True\n",
      "998\n"
     ]
    },
    {
     "data": {
      "image/png": "[encoded data removed]",
      "text/plain": [
       "<matplotlib.figure.Figure at 0x11692cf50>"
      ]
     },
     "metadata": {},
     "output_type": "display_data"
    }
   ],
   "source": [
    "def test(row):\n",
    "    output = model.run(row.to_dict(), return_columns=['making_concessions','making_threats'])\n",
    "    # is there a positive preference for making concessions at some point in the simulation\n",
    "    repr_pref = output['making_concessions'] > output['making_threats']\n",
    "    # is there a positive preference for making threats at some point in the simulation\n",
    "    threat_pref = output['making_concessions'] < output['making_threats']\n",
    "    # do both preferences occur at various points?\n",
    "    return any(repr_pref) and any(threat_pref)\n",
    "\n",
    "result = parameters.apply(test, axis=1)\n",
    "successmap(result)\n",
    "print any(result)\n",
    "print sum(result)"
   ]
  },
  {
   "cell_type": "markdown",
   "metadata": {},
   "source": [
    "### Test 3 A: Moderate Objectives in Liberal, Wealthy Democracies\n",
    "\n",
    "\n",
    "> \"In liberal democratic regimes in wealthy countries, for groups seeking \n",
    "modest goals, the costs of repression are likely to be higher than the \n",
    "costs of concessions. Thus for most issue-oriented groups, concessions \n",
    "and mild repression rather than reverse are the likely pattern of protest...\"\n",
    ">\n",
    "> \"if modest levels of concessions and repression are not sufficient to halt \n",
    "the movernent, the system will implement large concessions and preserve \n",
    "itself through reforms ..\"\n",
    ">\n",
    "> Pg. 192\n",
    "\n",
    "#### Interpretation\n",
    "We expect to see negative correlation between the relative cost of repression to concessions\n",
    "and the relative use of repression over concessions. "
   ]
  },
  {
   "cell_type": "code",
   "execution_count": 33,
   "metadata": {
    "collapsed": false
   },
   "outputs": [
    {
     "name": "stdout",
     "output_type": "stream",
     "text": [
      "[[  1.  nan]\n",
      " [ nan  nan]]\n"
     ]
    },
    {
     "data": {
      "image/png": "[encoded data removed]",
      "text/plain": [
       "<matplotlib.figure.Figure at 0x112fb7110>"
      ]
     },
     "metadata": {},
     "output_type": "display_data"
    }
   ],
   "source": [
    "def test(row):\n",
    "    output = model.run(row.to_dict(), return_columns=['repressive_threat_tr','concessions'])\n",
    "    return pd.Series({'cost_ratio':row['repression_unit_cost']/row['concession_unit_cost'],\n",
    "            'use_ratio':output['repressive_threat_tr'].iloc[-1]/output['concessions'].iloc[-1]})\n",
    "\n",
    "result = parameters.apply(test, axis=1)\n",
    "\n",
    "result.dropna(inplace=True)\n",
    "plt.plot(result['cost_ratio'], result['use_ratio'], 'bo', alpha=.5, mew=0)\n",
    "print np.corrcoef(result['cost_ratio'], result['use_ratio'])"
   ]
  },
  {
   "cell_type": "code",
   "execution_count": 60,
   "metadata": {
    "collapsed": false
   },
   "outputs": [
    {
     "data": {
      "text/plain": [
       "<matplotlib.text.Text at 0x117babb90>"
      ]
     },
     "execution_count": 60,
     "metadata": {},
     "output_type": "execute_result"
    },
    {
     "data": {
      "image/png": "[encoded data removed]",
      "text/plain": [
       "<matplotlib.figure.Figure at 0x11750ad50>"
      ]
     },
     "metadata": {},
     "output_type": "display_data"
    }
   ],
   "source": [
    "plt.loglog(result['cost_ratio'], result['use_ratio'], 'bo', alpha=.25, mew=0)\n",
    "#print np.corrcoef(result['cost_ratio'], result['use_ratio'])\n",
    "plt.ylim(.0001,1000)\n",
    "plt.xlabel('$\\\\frac{Cost\\:of\\:Repression}{Cost\\:of\\:Concessions}$', fontsize=20)\n",
    "plt.ylabel('$\\\\frac{Use\\:of\\:Repression}{Use\\:of\\:Concessions}$', fontsize=20)"
   ]
  },
  {
   "cell_type": "markdown",
   "metadata": {},
   "source": [
    "### Test 3 B: Extreme Objectives in Liberal, Wealthy Democracies\n",
    "> \"In liberal democratic regimes in wealthy countries, ... For groups to whom concessions would he exceptionally costly (for example, socialist groups seeking to overthrow capitalism); in these special cases a \n",
    "strong effort at repression and not concessions is the more likely response.\"\n",
    ">\n",
    "> Pg. 192\n",
    "\n",
    "#### Implication\n",
    "As the level of demands - or perhaps "
   ]
  },
  {
   "cell_type": "code",
   "execution_count": 61,
   "metadata": {
    "collapsed": false
   },
   "outputs": [
    {
     "data": {
      "text/plain": [
       "[<matplotlib.lines.Line2D at 0x1179cb3d0>]"
      ]
     },
     "execution_count": 61,
     "metadata": {},
     "output_type": "execute_result"
    },
    {
     "data": {
      "image/png": "[encoded data removed]",
      "text/plain": [
       "<matplotlib.figure.Figure at 0x1170f2310>"
      ]
     },
     "metadata": {},
     "output_type": "display_data"
    }
   ],
   "source": [
    "def test(row):\n",
    "    output = model.run(row.to_dict(), return_columns=['repressive_threat_tr','concessions'])\n",
    "    return pd.Series({'demands':row['new_advantages_a'],\n",
    "                      'use_ratio':output['repressive_threat_tr'].iloc[-1]/output['concessions'].iloc[-1]})\n",
    "\n",
    "result = parameters.apply(test, axis=1)\n",
    "\n",
    "result.dropna(inplace=True)\n",
    "plt.plot(result['demands'], result['use_ratio'], 'bo', alpha=.25, mew=0)\n",
    "#print np.corrcoef(result['cost_ratio'], result['use_ratio'])"
   ]
  },
  {
   "cell_type": "markdown",
   "metadata": {},
   "source": [
    "### Test\n",
    "\n",
    "#### Claim:\n",
    "> Authoritarian states may thus if they overestimate their support and \n",
    "underestimate that of the opposition, rachet up repression slowly and insufficiently \n",
    "to halt mobilization, while refusing to make concessions that would relieve the current \n",
    "threat imposed by existing conditions.\n",
    ">\n",
    "> Pg. 188\n",
    "\n",
    "#### Interpretation\n",
    "The rate at which "
   ]
  },
  {
   "cell_type": "markdown",
   "metadata": {},
   "source": [
    "### Test\n",
    "\n",
    "#### Claim\n",
    "> [The State] may swing back and forth between concessions and repression, \n",
    "trying to find a combination that quells protest. \n",
    "> This kind of inconsistent repression and concession is strongly\n",
    "associated with increasing protest actions.\n",
    ">\n",
    "> Pg. 188\n",
    "\n",
    "#### Interpretation\n",
    "In some cases, the regime may begin by primarily working to increase either repression or concessions, and then at some point in the simulation switch to the other strategy"
   ]
  },
  {
   "cell_type": "markdown",
   "metadata": {},
   "source": [
    "### Test\n",
    "\n",
    "#### Claim:\n",
    "> \"the effect of state actions in response to protest may be to shift the suppression line\n",
    "AB outward to A'B'\"\n",
    ">\n",
    "> Pg. 189\n",
    "\n",
    "#### Interpretation:\n",
    "At least in some cases, an increase in "
   ]
  },
  {
   "cell_type": "markdown",
   "metadata": {},
   "source": [
    "### Test\n",
    "\n",
    "\n",
    "> In some cases, where authorities respond to protests with repression, \n",
    "the result is distress and anger among the population which creates more \n",
    "opposition supporters, increases the perceived threat of the status quo, \n",
    "and thus leads people to be willing to bear greater costs to overturn the \n",
    "regime. The repression thus acts to move the A\\B line outward, and it may \n",
    "initially move further and faster than the regime's repression can keep \n",
    "pace with. \n",
    ">\n",
    "> Pg. 190\n"
   ]
  },
  {
   "cell_type": "markdown",
   "metadata": {},
   "source": [
    "### Test \n",
    "\n",
    "> In many cases, the regime was never able to get back \"on the other side\"\n",
    "of the advancing A\\B boundary. This might be because after some initial rounds \n",
    "of inadequate repression or concessions, the newly required level of repression \n",
    "was too costly, or the regime was constrained by internal or external factors, \n",
    "or it exceeded the capacity of the regime to implement.\n",
    "> \n",
    "> Pg. 190\n",
    "\n",
    "Limitations come not from costs, but from capacities"
   ]
  },
  {
   "cell_type": "markdown",
   "metadata": {},
   "source": [
    "### Test\n",
    "\n",
    "> \"Repressive actions against protest did more to discredit regimes than to suppress\n",
    "mobilization...\n",
    "> As the costs of repression and the constraints of external opinion limited repressive\n",
    "strategies, while mobilization and protest continued, the regimes adopted massive\n",
    "concessions to avert revolutionary conflict.\n",
    ">\n",
    "> Pg. 192"
   ]
  },
  {
   "cell_type": "markdown",
   "metadata": {},
   "source": [
    "### Test\n",
    "\n",
    "> \"In this case, the regime largely (although not entirely) refrains from violent \n",
    "repression, preferring to offer concessions. In some cases, the concessions may be \n",
    "insufficient, leading to more and more protests until massive reforms occur.\"\n",
    ">\n",
    "> Pg. 192"
   ]
  },
  {
   "cell_type": "code",
   "execution_count": null,
   "metadata": {
    "collapsed": true
   },
   "outputs": [],
   "source": []
  },
  {
   "cell_type": "markdown",
   "metadata": {},
   "source": [
    "### Test\n",
    "\n",
    "> \"For authoritarian regimes, concessions to any groups challenging their monopoly \n",
    "of power is likely to be more costly than repression; thus repression is more \n",
    "likely to dominate protest in these settings.\"\n",
    ">\n",
    "> \"However, repression has its costs as well, particularly if it alienates aid donors\n",
    "and trading partners. Such regimes are therefore likely to Swing between token \n",
    "concessions and repression, as their estimates of the costs of each fluctuates\"\n",
    ">\n",
    "> Pg. 192\n"
   ]
  }
 ],
 "metadata": {
  "kernelspec": {
   "display_name": "Python 2",
   "language": "python",
   "name": "python2"
  },
  "language_info": {
   "codemirror_mode": {
    "name": "ipython",
    "version": 2
   },
   "file_extension": ".py",
   "mimetype": "text/x-python",
   "name": "python",
   "nbconvert_exporter": "python",
   "pygments_lexer": "ipython2",
   "version": "2.7.11"
  }
 },
 "nbformat": 4,
 "nbformat_minor": 0
}
