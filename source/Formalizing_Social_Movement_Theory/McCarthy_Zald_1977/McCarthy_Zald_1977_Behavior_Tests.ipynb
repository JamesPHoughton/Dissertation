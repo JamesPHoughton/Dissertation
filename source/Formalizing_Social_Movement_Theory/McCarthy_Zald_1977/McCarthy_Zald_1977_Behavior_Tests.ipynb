{
 "cells": [
  {
   "cell_type": "code",
   "execution_count": 1,
   "metadata": {
    "collapsed": false
   },
   "outputs": [
    {
     "name": "stderr",
     "output_type": "stream",
     "text": [
      "/Users/houghton/anaconda/lib/python2.7/site-packages/pandas/computation/__init__.py:19: UserWarning: The installed version of numexpr 2.4.4 is not supported in pandas and will be not be used\n",
      "\n",
      "  UserWarning)\n"
     ]
    }
   ],
   "source": [
    "import pysd"
   ]
  },
  {
   "cell_type": "markdown",
   "metadata": {},
   "source": [
    "# Testing Observable Implications of McCarthy and Zald 1997\n",
    "This notebook collects the observable implications of the theory of Resource Mobilization in social movements presented in McCarthy and Zald 1997 *[1]*"
   ]
  },
  {
   "cell_type": "markdown",
   "metadata": {},
   "source": [
    "### Observable Implication / Test 1\n",
    "> \"[we] doubt the assumption of a close link between preexisting discontent and generalized beliefs in the rise of social movement phenomena. \" pg 1214 \n",
    "\n",
    "> \"[outbreaks of collective behavior episodes] flow directly out of\n",
    "a population's central political processes instead of expressing momentarily heightened diffuse strains and discontents within a population\" pg 1215\n",
    "\n",
    "> \"organization did not develop directly from that grievance but very indirectly through the moves of actors in the political system.\" pg 1215\n",
    "\n",
    "> \"Social movements may or may not be based upon the grievances of the presumed beneficiaries.\" pg 1216\n",
    "\n",
    "Formalized as: \n",
    "- The level of organization, mobilization, or activity of social movements can change without any changes in the level of grievance."
   ]
  },
  {
   "cell_type": "markdown",
   "metadata": {},
   "source": [
    "### Observable Implication / Test 2\n",
    "> \"in accounting for a movement's successes and failures there is an explicit recognition of the crucial importance of involvement on the part of individuals and organizations from outside the collectivity which a social movement represents.\" pg 1216\n",
    "\n",
    "Formalized as:\n",
    "- The involvement of conscience constituents is positively correlated with movement goal achievement."
   ]
  },
  {
   "cell_type": "markdown",
   "metadata": {},
   "source": [
    "### Observable Implication / Test 3\n",
    "> \"there is a sensitivity to the importance of costs and rewards in explaining individual and organizational involvement in social movement activity.\" pg 1216\n",
    "\n",
    "Formalized as:\n",
    "- The number of constituents of a social movement is positively correlated with costs and rewards to the individual.\n",
    "- The number of SMOs active in in a social movement industry is positively correlated with costs and rewards to the organization."
   ]
  },
  {
   "cell_type": "markdown",
   "metadata": {},
   "source": [
    "### Observable Implication / Test 4\n",
    "\n",
    "> \"Conscience constituents, individual and organizational, may provide\n",
    "major sources of support.\" pg 1216\n",
    "\n",
    "Formalized as:\n",
    "- Non-beneficiary constituents are responsible for more than 50% of financial resources and labor resources in at least one SMO in at least one case.\n",
    "\n",
    "Notes:\n",
    "We could interpret 'major sources of support' as something less than 50 percent, but we cannot likely interpret support exceeding 50% to be other than a major contribution."
   ]
  },
  {
   "cell_type": "markdown",
   "metadata": {},
   "source": [
    "### Observable Implication / Test 5\n",
    "\n",
    ">\"Dilemmas occur in the choice of tactics, since what may achieve one aim [mobilizing supporters, neutralizing and/or transforming mass and elite publics into sympathizers, achieving change in targets] may conflict with behavior aimed at achieving another.\" pg 1217\n",
    "\n",
    "Formalized as:\n",
    "- tactics exist that cause a gain in one of the tasks of mobilization, winning adherents, and achieving goals; and a simultaneous loss in one of the other tasks."
   ]
  },
  {
   "cell_type": "markdown",
   "metadata": {},
   "source": [
    "### Observable Implication / Test 6\n",
    "\n",
    "> \"Social movements whose related populations are highly organized internally (either communally or associationally) are more likely than are others to spawn organized forms.\" pg 1218"
   ]
  },
  {
   "cell_type": "markdown",
   "metadata": {},
   "source": [
    "### Observable Implication / Test 7\n",
    "\n",
    "> \"SMs are never fully mobilized.\" pg 1219\n",
    "\n",
    "Formalized as:\n",
    "- In any social movement there are always some movement adherents who are not active as constituents of a social movement organization."
   ]
  },
  {
   "cell_type": "markdown",
   "metadata": {},
   "source": [
    "### Observable Implication / Test 8\n",
    "> \"SMs are typically represented by more than one SMO.\" pg 1219"
   ]
  },
  {
   "cell_type": "markdown",
   "metadata": {},
   "source": [
    "### Observable Implication / Test 9\n",
    "\n",
    "> \"the rise and fall of SMIs... is not fully dependent on the size of an SM or the intensity of the preferences within it.\" 1219\n",
    "\n",
    "Formalized as:\n",
    "A social movement industry can grow and decline in its level of resource mobilization while the total size of the social movement remains generally constant."
   ]
  },
  {
   "cell_type": "markdown",
   "metadata": {},
   "source": [
    "### Observable Implication / Test 10\n",
    ">\"a SMO which has a mass beneficiary base and concentrates its resource mobilization efforts toward mass beneficiary adherents is likely to restrict severely the amount of resources it can raise.\" pg 1123\n",
    "\n"
   ]
  },
  {
   "cell_type": "markdown",
   "metadata": {},
   "source": [
    "### Observable Implication / Test 11\n",
    ">\"Organizations which direct resource appeals primarily toward conscience adherents tend to utilize few constituents for organizational labor\" pg 1223"
   ]
  },
  {
   "cell_type": "markdown",
   "metadata": {},
   "source": [
    "### Observable Implication / Test 12\n",
    ">\"Protest strategies draw attention and resources from\n",
    "conscience adherents to the SMO fighting on behalf of such mass groups\n",
    "and may also lead conscience elites to legitimate the SMO to authorities.\" pg 1223"
   ]
  },
  {
   "cell_type": "markdown",
   "metadata": {},
   "source": [
    "### Observable Implication / Test 13\n",
    "\n",
    ">\"\n",
    "As the amount of discretionary resources of\n",
    "mass and elite publics increases, the absolute and relative amount of re-sources available to the SMS increases.\" pg 1224"
   ]
  },
  {
   "cell_type": "markdown",
   "metadata": {},
   "source": [
    "### Observable Implication / Test 14\n",
    ">\"\n",
    "As the total\n",
    "amount of resources increases, the total amount available to the SMS can\n",
    "be expected to increase, even if the sector does not increase its relative\n",
    "share of the resource pool.\" pg 1224"
   ]
  },
  {
   "cell_type": "markdown",
   "metadata": {},
   "source": [
    "### Observable Implication / Test 15\n",
    ">\"as discretionary resources increase relative to total societal resources, the SMS can be expected to gain a larger proportional share.\" pg 1225"
   ]
  },
  {
   "cell_type": "markdown",
   "metadata": {},
   "source": [
    "### Observable Implication / Test 16\n",
    ">\"The greater the absolute amount of resources available to\n",
    "the SMS the greater the likelihood that new SMIs and SMOs will develop\n",
    "to compete for these resources.\" pg 1225"
   ]
  },
  {
   "cell_type": "markdown",
   "metadata": {},
   "source": [
    "### Observable Implication / Test 17\n",
    ">\"Regardless of the resources available to potential beneficiary\n",
    "adherents, the larger the amount of resources available to conscience ad-herents the more likely is the development of SMOs and SMIs that respond\n",
    "to preferences for change.\" pg 1225"
   ]
  },
  {
   "cell_type": "markdown",
   "metadata": {},
   "source": [
    "### Observable Implication / Test 18\n",
    ">\"the existence of a SM made up of well-heeled adherents calls out to the entrepreneur of the cause to attempt to form a viable organization\" pg. 1226\n",
    "\n"
   ]
  },
  {
   "cell_type": "markdown",
   "metadata": {},
   "source": [
    "### Observable Implication / Test 19\n",
    ">\"To the extent to which SM beneficiary adherents lack resources, SMO support, if it can be mobilized, is likely to become heavily dependent upon conscience constituents.\" pg 1226\n"
   ]
  },
  {
   "cell_type": "markdown",
   "metadata": {},
   "source": [
    "### Observable Implication / Test 19\n",
    ">\"Many collectivities with serious objective deprivations, and even with preexisting preferences for change, have been highly underrepresented by social move-ment organizations. These SMs tend to be very limited in their control of discretionary resources. It is only when resources can be garnered from conscience adherents that viable SMOs can be fielded to shape and rep-resent the preferences of such collectivities.\" pg 1226\n"
   ]
  },
  {
   "cell_type": "markdown",
   "metadata": {},
   "source": [
    "### Observable Implication / Test 20\n",
    "> \"Federation developing out of preexisting groups can occur quite rapidly, while organizing unattached individuals probably requires more time and resources.\" pg. 1228"
   ]
  },
  {
   "cell_type": "markdown",
   "metadata": {},
   "source": [
    "### Observable Implication / Test 21\n",
    ">\"The more a SMO is dependent upon isolated constituents the less stable will be the flow of resources to the SMO.\""
   ]
  },
  {
   "cell_type": "markdown",
   "metadata": {},
   "source": [
    "## References\n",
    "\n",
    "1. McCarthy, JD and MN Zald. 1977. “Resource Mobilization and Social Movements: A Partial Theory.” American journal of sociology. "
   ]
  },
  {
   "cell_type": "code",
   "execution_count": null,
   "metadata": {
    "collapsed": true
   },
   "outputs": [],
   "source": []
  }
 ],
 "metadata": {
  "kernelspec": {
   "display_name": "Python 2",
   "language": "python",
   "name": "python2"
  },
  "language_info": {
   "codemirror_mode": {
    "name": "ipython",
    "version": 2
   },
   "file_extension": ".py",
   "mimetype": "text/x-python",
   "name": "python",
   "nbconvert_exporter": "python",
   "pygments_lexer": "ipython2",
   "version": "2.7.11"
  }
 },
 "nbformat": 4,
 "nbformat_minor": 0
}
