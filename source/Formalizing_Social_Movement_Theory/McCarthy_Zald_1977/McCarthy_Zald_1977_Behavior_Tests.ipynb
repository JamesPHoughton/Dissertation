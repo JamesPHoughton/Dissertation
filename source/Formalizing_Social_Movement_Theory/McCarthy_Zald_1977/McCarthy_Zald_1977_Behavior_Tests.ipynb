{
 "cells": [
  {
   "cell_type": "code",
   "execution_count": 1,
   "metadata": {
    "collapsed": false
   },
   "outputs": [
    {
     "name": "stderr",
     "output_type": "stream",
     "text": [
      "/Users/houghton/anaconda/lib/python2.7/site-packages/pandas/computation/__init__.py:19: UserWarning: The installed version of numexpr 2.4.4 is not supported in pandas and will be not be used\n",
      "\n",
      "  UserWarning)\n"
     ]
    }
   ],
   "source": [
    "import pysd"
   ]
  },
  {
   "cell_type": "markdown",
   "metadata": {},
   "source": [
    "# Testing Observable Implications of McCarthy and Zald 1997\n",
    "This notebook collects the observable implications of the theory of Resource Mobilization in social movements presented in McCarthy and Zald 1997 *[1]*"
   ]
  },
  {
   "cell_type": "markdown",
   "metadata": {},
   "source": [
    "### Observable Implication / Test 1\n",
    "> \"[we] doubt the assumption of a close link between preexisting discontent and generalized beliefs in the rise of social movement phenomena. \" pg 1214 \n",
    "\n",
    "> \"[outbreaks of collective behavior episodes] flow directly out of\n",
    "a population's central political processes instead of expressing momentarily heightened diffuse strains and discontents within a population\" pg 1215\n",
    "\n",
    "> \"organization did not develop directly from that grievance but very indirectly through the moves of actors in the political system.\" pg 1215\n",
    "\n",
    "> \"Social movements may or may not be based upon the grievances of the presumed beneficiaries.\" pg 1216\n",
    "\n",
    "Formalized as: \n",
    "- The level of organization, mobilization, or activity of social movements can change without any changes in the level of grievance."
   ]
  },
  {
   "cell_type": "markdown",
   "metadata": {},
   "source": [
    "### Observable Implication / Test 2\n",
    "> \"in accounting for a movement's successes and failures there is an explicit recognition of the crucial importance of involvement on the part of individuals and organizations from outside the collectivity which a social movement represents.\" pg 1216\n",
    "\n",
    "Formalized as:\n",
    "- The involvement of conscience constituents is positively correlated with movement goal achievement."
   ]
  },
  {
   "cell_type": "markdown",
   "metadata": {},
   "source": [
    "### Observable Implication / Test 3\n",
    "> \"there is a sensitivity to the importance of costs and rewards in explaining individual and organizational involvement in social movement activity.\" pg 1216\n",
    "\n",
    "Formalized as:\n",
    "- The number of constituents of a social movement is positively correlated with costs and rewards to the individual.\n",
    "- The number of SMOs active in in a social movement industry is positively correlated with costs and rewards to the organization."
   ]
  },
  {
   "cell_type": "markdown",
   "metadata": {},
   "source": [
    "### Observable Implication / Test 4\n",
    "\n",
    "> \"Conscience constituents, individual and organizational, may provide\n",
    "major sources of support.\" pg 1216\n",
    "\n",
    "Formalized as:\n",
    "- Non-beneficiary constituents are responsible for more than 50% of financial resources and labor resources in at least one SMO in at least one case.\n",
    "\n",
    "Notes:\n",
    "We could interpret 'major sources of support' as something less than 50 percent, but we cannot likely interpret support exceeding 50% to be other than a major contribution."
   ]
  },
  {
   "cell_type": "markdown",
   "metadata": {},
   "source": [
    "### Observable Implication / Test 5\n",
    "\n",
    ">\"Dilemmas occur in the choice of tactics, since what may achieve one aim [mobilizing supporters, neutralizing and/or transforming mass and elite publics into sympathizers, achieving change in targets] may conflict with behavior aimed at achieving another.\" pg 1217\n",
    "\n",
    "Formalized as:\n",
    "- tactics exist that cause a gain in one of the tasks of mobilization, winning adherents, and achieving goals; and a simultaneous loss in one of the other tasks."
   ]
  },
  {
   "cell_type": "markdown",
   "metadata": {},
   "source": [
    "### Observable Implication / Test 6\n",
    "\n",
    "> \"Social movements whose related populations are highly organized internally (either communally or associationally) are more likely than are others to spawn organized forms.\" pg 1218\n",
    "\n",
    "Formalized as:\n",
    "- The total number of social movement organizations created in a simulation is positively correlated with the degree to which the individuals in the population are 'federated' vs 'isolated'."
   ]
  },
  {
   "cell_type": "markdown",
   "metadata": {},
   "source": [
    "### Observable Implication / Test 7\n",
    "\n",
    "> \"SMs are never fully mobilized.\" pg 1219\n",
    "\n",
    "Formalized as:\n",
    "- In any social movement there are always some movement adherents who are not active as constituents of a social movement organization."
   ]
  },
  {
   "cell_type": "markdown",
   "metadata": {},
   "source": [
    "### Observable Implication / Test 8\n",
    "> \"SMs are typically represented by more than one SMO.\" pg 1219\n",
    "\n",
    "Formalized as:\n",
    "- In the majority of cases, multiple SMOs enter the SMI."
   ]
  },
  {
   "cell_type": "markdown",
   "metadata": {},
   "source": [
    "### Observable Implication / Test 9\n",
    "\n",
    "> \"the rise and fall of SMIs... is not fully dependent on the size of an SM or the intensity of the preferences within it.\" 1219\n",
    "\n",
    "Formalized as:\n",
    "- A social movement industry can grow and decline in its level of resource mobilization while the total size of the social movement remains generally constant."
   ]
  },
  {
   "cell_type": "markdown",
   "metadata": {},
   "source": [
    "### Observable Implication / Test 10\n",
    ">\"a SMO which has a mass beneficiary base and concentrates its resource mobilization efforts toward mass beneficiary adherents is likely to restrict severely the amount of resources it can raise.\" pg 1123\n",
    "\n",
    ">\"\n",
    "\n",
    "\n",
    "Formalized as:\n",
    "- The fractional allocation of effort towards mobilizing (into constituents) adherents categorized as mass and beneficiary is inversely correlated with cumulative resource-years mobilized.\n"
   ]
  },
  {
   "cell_type": "markdown",
   "metadata": {},
   "source": [
    "### Observable Implication / Test 11\n",
    ">\"Organizations which direct resource appeals primarily toward conscience adherents tend to utilize few constituents for organizational labor\" pg 1223"
   ]
  },
  {
   "cell_type": "markdown",
   "metadata": {},
   "source": [
    "### Observable Implication / Test 12\n",
    ">\"Protest strategies draw attention and resources from\n",
    "conscience adherents to the SMO fighting on behalf of such mass groups\n",
    "and may also lead conscience elites to legitimate the SMO to authorities.\" pg 1223"
   ]
  },
  {
   "cell_type": "markdown",
   "metadata": {},
   "source": [
    "### Observable Implication / Test 13\n",
    "\n",
    ">\"\n",
    "As the amount of discretionary resources of\n",
    "mass and elite publics increases, the absolute and relative amount of re-sources available to the SMS increases.\" pg 1224"
   ]
  },
  {
   "cell_type": "markdown",
   "metadata": {},
   "source": [
    "### Observable Implication / Test 14\n",
    ">\"\n",
    "As the total\n",
    "amount of resources increases, the total amount available to the SMS can\n",
    "be expected to increase, even if the sector does not increase its relative\n",
    "share of the resource pool.\" pg 1224"
   ]
  },
  {
   "cell_type": "markdown",
   "metadata": {},
   "source": [
    "### Observable Implication / Test 15\n",
    ">\"as discretionary resources increase relative to total societal resources, the SMS can be expected to gain a larger proportional share.\" pg 1225"
   ]
  },
  {
   "cell_type": "markdown",
   "metadata": {},
   "source": [
    "### Observable Implication / Test 16\n",
    ">\"The greater the absolute amount of resources available to\n",
    "the SMS the greater the likelihood that new SMIs and SMOs will develop\n",
    "to compete for these resources.\" pg 1225"
   ]
  },
  {
   "cell_type": "markdown",
   "metadata": {},
   "source": [
    "### Observable Implication / Test 17\n",
    ">\"Regardless of the resources available to potential beneficiary\n",
    "adherents, the larger the amount of resources available to conscience ad-herents the more likely is the development of SMOs and SMIs that respond\n",
    "to preferences for change.\" pg 1225"
   ]
  },
  {
   "cell_type": "markdown",
   "metadata": {},
   "source": [
    "### Observable Implication / Test 18\n",
    ">\"the existence of a SM made up of well-heeled adherents calls out to the entrepreneur of the cause to attempt to form a viable organization\" pg. 1226\n",
    "\n"
   ]
  },
  {
   "cell_type": "markdown",
   "metadata": {},
   "source": [
    "### Observable Implication / Test 19\n",
    ">\"To the extent to which SM beneficiary adherents lack resources, SMO support, if it can be mobilized, is likely to become heavily dependent upon conscience constituents.\" pg 1226\n"
   ]
  },
  {
   "cell_type": "markdown",
   "metadata": {},
   "source": [
    "### Observable Implication / Test 19\n",
    ">\"Many collectivities with serious objective deprivations, and even with preexisting preferences for change, have been highly underrepresented by social move-ment organizations. These SMs tend to be very limited in their control of discretionary resources. It is only when resources can be garnered from conscience adherents that viable SMOs can be fielded to shape and rep-resent the preferences of such collectivities.\" pg 1226\n"
   ]
  },
  {
   "cell_type": "markdown",
   "metadata": {},
   "source": [
    "### Observable Implication / Test 20\n",
    "> \"Federation developing out of preexisting groups can occur quite rapidly, while organizing unattached individuals probably requires more time and resources.\" pg. 1228"
   ]
  },
  {
   "cell_type": "markdown",
   "metadata": {},
   "source": [
    "### Observable Implication / Test 21\n",
    ">\"The more a SMO is dependent upon isolated constituents the less stable will be the flow of resources to the SMO.\" pg. 1228"
   ]
  },
  {
   "cell_type": "markdown",
   "metadata": {},
   "source": [
    "### Observable Implication / Test 22\n",
    ">\"The SMOs within any SMI will tend to compete with one another for the resources of these isolated adherents.\" pg. 1228-1229"
   ]
  },
  {
   "cell_type": "markdown",
   "metadata": {},
   "source": [
    "### Observable Implication / Test 23\n",
    ">\"advertising campaigns may convince isolated adherents with high-issue elasticity to switch SMOs and/or SMIs. Issue elasticity relates to what Downs (1972) terms \"issue attention cycles.\" These apparent cycles, he observes, include the stages of a problem dis-covered, dramatic increases in adherence as advertising alerts potential adherents, attempts at problem solution, lack of success of such attempts, and a rapid decline in adherence and advertising.\" 1229"
   ]
  },
  {
   "cell_type": "markdown",
   "metadata": {},
   "source": [
    "### Observable Implication / Test 24\n",
    ">\"\n",
    "Perceived lack of success in goal accomplishment by a SMO may lead\n",
    "an individual to switch to SMOs with alternative strategies or, to the\n",
    "extent that products are substitutable, to switch to those with other target\n",
    "goals.\" pg 1229"
   ]
  },
  {
   "cell_type": "markdown",
   "metadata": {},
   "source": [
    "### Observable Implication / Test 25\n",
    ">\"\n",
    "Some isolated constituents may continue to purchase the product (to support a SMO) unaware of how effective or ineffective it may be.\" pg 1229"
   ]
  },
  {
   "cell_type": "markdown",
   "metadata": {},
   "source": [
    "### Observable Implication / Test 26\n",
    ">\"\n",
    "most SMOs do not\n",
    "command such stable loyalties from large numbers of people.\" pg 1229\n"
   ]
  },
  {
   "cell_type": "markdown",
   "metadata": {},
   "source": [
    "### Observable Implication / Test 27\n",
    "> \n",
    "\"This process, [of socializing youth into SMO loyalty] however, most probably occurs not among isolated constituents, but among those who are linked in more direct fashion to SMOs.\" pg 1230"
   ]
  },
  {
   "cell_type": "markdown",
   "metadata": {},
   "source": [
    "### Observable Implication / Test 28\n",
    ">\"The more\n",
    "dependent a SMO is upon isolated constituents the greater the share of its\n",
    "resources which will be allocated to advertising.\" pg 1230"
   ]
  },
  {
   "cell_type": "markdown",
   "metadata": {},
   "source": [
    "### Observable Implication / Test 29\n",
    "> \n",
    "\"The more a SMO depends upon isolated constituents to\n",
    "maintain a resource flow the more its shifts in resource flow resemble the\n",
    "patterns of consumer expenditures for expendable and marginal goods.\" pg 1230\n",
    "\n",
    ">\"\n",
    "if a SMO is linked to its major source of constituent\n",
    "financial support through the advertising of its products, isolated constitu-ents will balance off their contributions with other marginal expenditures.\""
   ]
  },
  {
   "cell_type": "markdown",
   "metadata": {},
   "source": [
    "### Observable Implication / Test 30\n",
    ">\"The more attractive the target goal (product) upon which such a solici-tation is based, the more likely that isolated adherents will become isolated constituents.\n",
    "\"\n"
   ]
  },
  {
   "cell_type": "markdown",
   "metadata": {},
   "source": [
    "### Observable Implication / Test 31\n",
    ">\"A SMO which attcmpts to link both conscience and beneficiary\n",
    "constituents to the organization through federated chapter structures, and\n",
    "hence solidary incentives, is likely to have high levels of tension and con-flict.\" 1231"
   ]
  },
  {
   "cell_type": "markdown",
   "metadata": {},
   "source": [
    "### Observable Implication / Test 32\n",
    ">\"\n",
    "If conscience constituents are more likely to be active in other\n",
    "SMOs and to be adherents of more than one SM, we would expect their\n",
    "involvement to be less continuous.\" pg 1232"
   ]
  },
  {
   "cell_type": "markdown",
   "metadata": {},
   "source": [
    "### Observable Implication / Test 33\n",
    ">\"conscience constituents\n",
    "are more likely to be adherents to more than one SM1O and more than one\n",
    "SMI\" 1232"
   ]
  },
  {
   "cell_type": "markdown",
   "metadata": {},
   "source": [
    "### Observable Implication / Test 34\n",
    ">\"depending exclusively upon mass beneficiary constituents\n",
    "reduces the potential size of the resource pool which can be used for goal\n",
    "accomplishment.\" pg 1232"
   ]
  },
  {
   "cell_type": "markdown",
   "metadata": {},
   "source": [
    "### Observable Implication / Test 35\n",
    ">\"Older, established SMOs are more likely\n",
    "than newer SMOs to persist throughout the cycle of SMI growth and\n",
    "decline... A structure in place when demand increases improves the likelihood of capturing a share of the market.\" 1233"
   ]
  },
  {
   "cell_type": "markdown",
   "metadata": {},
   "source": [
    "### \n",
    "> \"older SMOs are more able to use advertising to reach isolated adherents\" pg 1233\n"
   ]
  },
  {
   "cell_type": "markdown",
   "metadata": {},
   "source": [
    "###\n",
    ">\"Newer SMOs may capture a share of the isolated constituent market, but\n",
    "they will be disadvantaged at least until they establish a clear image of\n",
    "themselves and a structure to capitalize upon it.\" pg 1234"
   ]
  },
  {
   "cell_type": "markdown",
   "metadata": {},
   "source": [
    "### Observable Implication / Test 38\n",
    ">\"\n",
    "The larger the income flow to a SMO the more likely\n",
    "that cadre and staff are professional and the larger are these groups.\" pg 1234"
   ]
  },
  {
   "cell_type": "markdown",
   "metadata": {},
   "source": [
    "### Observable Implication / Test 39\n",
    ">\"\n",
    "The larger the SMS and the larger the specific SMIs the\n",
    "more likely it is that SM careers will develop.\" pg 1235"
   ]
  },
  {
   "cell_type": "markdown",
   "metadata": {},
   "source": [
    "### Observable Implication / Test 40\n",
    ">\"The more a SMO is funded by\n",
    "isolated constituents the more likely that beneficiary constituent workers\n",
    "are recruited for strategic purposes rather than for organizational work.\" pg 1235"
   ]
  },
  {
   "cell_type": "markdown",
   "metadata": {},
   "source": [
    "### Observable Implication / Test 41\n",
    ">\"\n",
    "The more a\n",
    "SMO is made up of workers with discretionary time at their disposal the\n",
    "more readily it can develop transitory teams.\" 1236"
   ]
  },
  {
   "cell_type": "markdown",
   "metadata": {},
   "source": [
    "### Observable Implication / Test 42\n",
    ">\"\n",
    "isolated ad-herents with control over large resource pools are probably more important\n",
    "to SMI growth in societies without mass media.\" 1237"
   ]
  },
  {
   "cell_type": "markdown",
   "metadata": {},
   "source": [
    "## References\n",
    "\n",
    "1. McCarthy, JD and MN Zald. 1977. “Resource Mobilization and Social Movements: A Partial Theory.” American journal of sociology. "
   ]
  },
  {
   "cell_type": "code",
   "execution_count": null,
   "metadata": {
    "collapsed": true
   },
   "outputs": [],
   "source": []
  }
 ],
 "metadata": {
  "kernelspec": {
   "display_name": "Python 2",
   "language": "python",
   "name": "python2"
  },
  "language_info": {
   "codemirror_mode": {
    "name": "ipython",
    "version": 2
   },
   "file_extension": ".py",
   "mimetype": "text/x-python",
   "name": "python",
   "nbconvert_exporter": "python",
   "pygments_lexer": "ipython2",
   "version": "2.7.12"
  }
 },
 "nbformat": 4,
 "nbformat_minor": 0
}
