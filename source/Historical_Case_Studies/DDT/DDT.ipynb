{
 "cells": [
  {
   "cell_type": "markdown",
   "metadata": {},
   "source": [
    "#DDT and Silent Spring\n",
    "\n",
    "This case study looks at social movements which arise due to scientific findings. DDT and Silent Spring is one aspect of this in practice, but others exist:\n",
    "\n",
    "- CFC bans\n",
    "- Leaded Gasoline, Lead paint Bans\n",
    "\n",
    "Outline:\n",
    "- What is the history? Tell the story.\n"
   ]
  }
 ],
 "metadata": {
  "kernelspec": {
   "display_name": "Python 2",
   "language": "python",
   "name": "python2"
  },
  "language_info": {
   "codemirror_mode": {
    "name": "ipython",
    "version": 2
   },
   "file_extension": ".py",
   "mimetype": "text/x-python",
   "name": "python",
   "nbconvert_exporter": "python",
   "pygments_lexer": "ipython2",
   "version": "2.7.6"
  }
 },
 "nbformat": 4,
 "nbformat_minor": 0
}
