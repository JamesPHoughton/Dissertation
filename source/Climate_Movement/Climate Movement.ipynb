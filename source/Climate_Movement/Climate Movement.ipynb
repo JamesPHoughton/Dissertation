{
 "cells": [
  {
   "cell_type": "markdown",
   "metadata": {},
   "source": [
    "#Climate Movement\n",
    "How do committments from other countries influence political pressure within a country to commit to reductions\n",
    "\n",
    "\n",
    "If a perfect agreement is DOA because of the political situation back home, what is the purpose of the summits? Must be to motivate political change back home. What would a perfect agreement do to political pressure? How would it change the conversation? Look to Kyoto?"
   ]
  }
 ],
 "metadata": {
  "kernelspec": {
   "display_name": "Python 2",
   "language": "python",
   "name": "python2"
  },
  "language_info": {
   "codemirror_mode": {
    "name": "ipython",
    "version": 2
   },
   "file_extension": ".py",
   "mimetype": "text/x-python",
   "name": "python",
   "nbconvert_exporter": "python",
   "pygments_lexer": "ipython2",
   "version": "2.7.6"
  }
 },
 "nbformat": 4,
 "nbformat_minor": 0
}
