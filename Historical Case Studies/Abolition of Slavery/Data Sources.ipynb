{
 "metadata": {
  "name": "",
  "signature": "sha256:61479d62683a71d4084c17d73f6ae47a6eee595fe90a3abb34c2e593d84e91a3"
 },
 "nbformat": 3,
 "nbformat_minor": 0,
 "worksheets": [
  {
   "cells": [
    {
     "cell_type": "code",
     "collapsed": false,
     "input": [
      "Petitions to Parliament\n",
      "http://www.parliament.uk/slavetrade"
     ],
     "language": "python",
     "metadata": {},
     "outputs": []
    }
   ],
   "metadata": {}
  }
 ]
}