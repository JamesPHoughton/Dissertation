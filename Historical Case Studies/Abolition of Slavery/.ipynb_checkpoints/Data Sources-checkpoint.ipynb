{
 "metadata": {
  "name": "",
  "signature": "sha256:c8bd910dbc90aeb6ca45b37ef9c3ecf0514df27493d84fb5983327c54215ac43"
 },
 "nbformat": 3,
 "nbformat_minor": 0,
 "worksheets": []
}