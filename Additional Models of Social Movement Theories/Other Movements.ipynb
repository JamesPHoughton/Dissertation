{
 "cells": [
  {
   "cell_type": "markdown",
   "metadata": {},
   "source": [
    "#Modeling other social movement theories\n",
    "\n",
    "This paper will formalize a variety of theories about the dynamic roots of social movements as System Dynamics or Agent Based models drawn from the traditional sociology literature. It will focus on theories that have received less attention in the modeling literature. It will categorize these models according to their theories and simulated outcomes, in the context of the categories defined for models existing in the literature."
   ]
  }
 ],
 "metadata": {
  "kernelspec": {
   "display_name": "Python 2",
   "language": "python",
   "name": "python2"
  },
  "language_info": {
   "codemirror_mode": {
    "name": "ipython",
    "version": 2
   },
   "file_extension": ".py",
   "mimetype": "text/x-python",
   "name": "python",
   "nbconvert_exporter": "python",
   "pygments_lexer": "ipython2",
   "version": "2.7.6"
  }
 },
 "nbformat": 4,
 "nbformat_minor": 0
}
