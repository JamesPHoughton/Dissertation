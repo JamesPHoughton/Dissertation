{
 "cells": [
  {
   "cell_type": "markdown",
   "metadata": {},
   "source": [
    "# Translate Notebooks\n",
    "\n",
    "This preprocesses all the ipython notebooks over to rst files so that sphinx can import them."
   ]
  },
  {
   "cell_type": "code",
   "execution_count": 19,
   "metadata": {
    "collapsed": false
   },
   "outputs": [],
   "source": [
    "import glob\n",
    "import os.path"
   ]
  },
  {
   "cell_type": "code",
   "execution_count": 33,
   "metadata": {
    "collapsed": false,
    "scrolled": true
   },
   "outputs": [
    {
     "data": {
      "text/plain": [
       "['source/Formal_Models_of_Other_Social_Movement_Theories/Narrative/Narrative.ipynb',\n",
       " 'source/Formal_Models_of_Other_Social_Movement_Theories/Overview/Other Movements.ipynb',\n",
       " 'source/Historical_Case_Studies/DDT/DDT.ipynb',\n",
       " 'source/Historical_Case_Studies/SA_Apartheid/SA_Apartheid.ipynb',\n",
       " 'source/Historical_Case_Studies/UK_Abolition_of_Slave_Trade/Abolition_UK_Slave_Trade.ipynb',\n",
       " 'source/Historical_Case_Studies/UK_Abolition_of_Slave_Trade/Data Sources.ipynb',\n",
       " 'source/Historical_Case_Studies/US_Marriage_Equality/US_Marriage_Equality.ipynb',\n",
       " 'source/Models_of_the_Climate_Movement/Climate Movement.ipynb',\n",
       " 'source/Survey_of_Social_Movement_Models/Granovetter_1978/Granovetter_1978.ipynb',\n",
       " 'source/Survey_of_Social_Movement_Models/Johnson_Feinberg_1977/Johnson_Feinberg_1977.ipynb',\n",
       " 'source/Survey_of_Social_Movement_Models/Overview/Overview.ipynb']"
      ]
     },
     "execution_count": 33,
     "metadata": {},
     "output_type": "execute_result"
    }
   ],
   "source": [
    "import fnmatch\n",
    "import os\n",
    "\n",
    "notebooks = []\n",
    "for root, dirnames, filenames in os.walk('source'):\n",
    "    for filename in fnmatch.filter(filenames, '*.ipynb'):\n",
    "        notebooks.append(os.path.join(root, filename))\n",
    "        \n",
    "#dropt the checkpoint files        \n",
    "notebooks = [notebook for notebook in notebooks if not 'checkpoint' in notebook]        \n",
    "notebooks"
   ]
  },
  {
   "cell_type": "code",
   "execution_count": 34,
   "metadata": {
    "collapsed": false
   },
   "outputs": [
    {
     "name": "stdout",
     "output_type": "stream",
     "text": [
      "[NbConvertApp] Converting notebook Narrative.ipynb to rst\n",
      "[NbConvertApp] Writing 210 bytes to Narrative.rst\n",
      "\n",
      "\n",
      "[NbConvertApp] Converting notebook Other Movements.ipynb to rst\n",
      "[NbConvertApp] Writing 454 bytes to Other Movements.rst\n",
      "\n",
      "\n",
      "[NbConvertApp] Converting notebook DDT.ipynb to rst\n",
      "[NbConvertApp] Writing 301 bytes to DDT.rst\n",
      "\n",
      "\n",
      "[NbConvertApp] Converting notebook SA_Apartheid.ipynb to rst\n",
      "[NbConvertApp] Writing 134 bytes to SA_Apartheid.rst\n",
      "\n",
      "\n",
      "[NbConvertApp] Converting notebook Abolition_UK_Slave_Trade.ipynb to rst\n",
      "[NbConvertApp] Writing 181 bytes to Abolition_UK_Slave_Trade.rst\n",
      "\n",
      "\n",
      "[NbConvertApp] Converting notebook Data Sources.ipynb to rst\n",
      "[NbConvertApp] Writing 87 bytes to Data Sources.rst\n",
      "\n",
      "\n",
      "[NbConvertApp] Converting notebook US_Marriage_Equality.ipynb to rst\n",
      "[NbConvertApp] Writing 18171 bytes to US_Marriage_Equality.rst\n",
      "\n",
      "\n",
      "[NbConvertApp] Converting notebook Climate Movement.ipynb to rst\n",
      "[NbConvertApp] Writing 418 bytes to Climate Movement.rst\n",
      "\n",
      "\n",
      "[NbConvertApp] Converting notebook Granovetter_1978.ipynb to rst\n",
      "[NbConvertApp] Writing 167 bytes to Granovetter_1978.rst\n",
      "\n",
      "\n",
      "[NbConvertApp] Converting notebook Johnson_Feinberg_1977.ipynb to rst\n",
      "[NbConvertApp] Writing 144 bytes to Johnson_Feinberg_1977.rst\n",
      "\n",
      "\n",
      "[NbConvertApp] Converting notebook Overview.ipynb to rst\n",
      "[NbConvertApp] Writing 1754 bytes to Overview.rst\n",
      "\n",
      "\n"
     ]
    }
   ],
   "source": [
    "for infile in notebooks:\n",
    "    infile = infile.replace(' ','\\ ')\n",
    "    \n",
    "    #convert notebook in its local directory\n",
    "    path, nbfile = os.path.split(infile)    \n",
    "    ! cd $path; ipython nbconvert --to rst $nbfile\n",
    "\n",
    "    #move the .rst file\n",
    "    no_ext = os.path.splitext(nbfile)[0]\n",
    "    movefiles = path+'/'+no_ext+'.rst'\n",
    "    #drop the 'source' part of the directory structure, and replace it with 'docs'\n",
    "    dest = 'docs/'+'/'.join(path.split('/')[1:]) #pretty dependent on directory structure\n",
    "    ! mv $movefiles $dest\n",
    "\n",
    "    #move supporting files, if there are any\n",
    "    movedir = path+'/'+no_ext+'_files'\n",
    "    if os.path.exists(movedir):\n",
    "        destdir = 'docs/'+'/'.join(path.split('/')[1:])+'/'+no_ext+'_files'        \n",
    "        if os.path.exists(destdir): #check to see if the 'files' directory has already been created\n",
    "            !rm -r $destdir #if so, remove it, so we can have a clean slate...\n",
    "        !mv $movedir $dest\n",
    "        \n",
    "    print '\\n'"
   ]
  },
  {
   "cell_type": "code",
   "execution_count": null,
   "metadata": {
    "collapsed": true
   },
   "outputs": [],
   "source": []
  }
 ],
 "metadata": {
  "kernelspec": {
   "display_name": "Python 2",
   "language": "python",
   "name": "python2"
  },
  "language_info": {
   "codemirror_mode": {
    "name": "ipython",
    "version": 2
   },
   "file_extension": ".py",
   "mimetype": "text/x-python",
   "name": "python",
   "nbconvert_exporter": "python",
   "pygments_lexer": "ipython2",
   "version": "2.7.6"
  }
 },
 "nbformat": 4,
 "nbformat_minor": 0
}
